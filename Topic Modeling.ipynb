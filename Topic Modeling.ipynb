{
 "cells": [
  {
   "cell_type": "code",
   "execution_count": 58,
   "metadata": {},
   "outputs": [],
   "source": [
    "# Initialising dataframes in pandas containing the topics and questions\n",
    "import pandas as pd\n",
    "\n",
    "df_topics = pd.DataFrame()\n",
    "df_topics = pd.read_csv(\"Placebo/Topics.txt\", delimiter=\"\\t \", engine=\"python\",header=None, names=['topic'])"
   ]
  },
  {
   "cell_type": "code",
   "execution_count": 59,
   "metadata": {},
   "outputs": [],
   "source": [
    "df_questions = pd.DataFrame()\n",
    "df_questions = pd.read_csv(\"Placebo/Questions.txt\", engine=\"python\", delimiter='\\t',header=None, names=['questions'])"
   ]
  },
  {
   "cell_type": "code",
   "execution_count": 60,
   "metadata": {},
   "outputs": [],
   "source": [
    "topic_model = pd.DataFrame()\n",
    "topic_model = pd.concat([df_questions, df_topics], axis=1)"
   ]
  },
  {
   "cell_type": "code",
   "execution_count": 61,
   "metadata": {},
   "outputs": [],
   "source": [
    "from sklearn.feature_extraction.text import TfidfVectorizer\n",
    "vectorizer = TfidfVectorizer(stop_words=\"english\", lowercase=\"True\", strip_accents=\"ascii\")\n",
    "\n",
    "y = topic_model.topic\n",
    "X = vectorizer.fit_transform(topic_model.questions.astype('U'))"
   ]
  },
  {
   "cell_type": "code",
   "execution_count": 62,
   "metadata": {},
   "outputs": [],
   "source": [
    "# Importing the function for splitting data into test & train, \n",
    "# as well as F1 metrics\n",
    "from sklearn.model_selection import train_test_split\n",
    "from sklearn.metrics import f1_score\n",
    "\n",
    "# Splitting the data into 80% training, %20 for testing\n",
    "X_train, X_test, y_train, y_test = train_test_split(X, y, test_size=0.2, random_state = 1)"
   ]
  },
  {
   "cell_type": "code",
   "execution_count": 63,
   "metadata": {},
   "outputs": [
    {
     "name": "stderr",
     "output_type": "stream",
     "text": [
      "/Library/Frameworks/Python.framework/Versions/3.7/lib/python3.7/site-packages/sklearn/linear_model/logistic.py:459: FutureWarning: Default multi_class will be changed to 'auto' in 0.22. Specify the multi_class option to silence this warning.\n",
      "  \"this warning.\", FutureWarning)\n"
     ]
    }
   ],
   "source": [
    "# Importing the logistic regression function\n",
    "from sklearn.linear_model import LogisticRegression\n",
    "\n",
    "# Instantiate the classifier\n",
    "log_reg = LogisticRegression(solver='lbfgs')\n",
    "\n",
    "# The model will learn the relationship between the input \n",
    "# and the observation when fit is called on the data\n",
    "log_reg.fit(X_train, y_train)\n",
    "\n",
    "# Testing the model using the remaining test data\n",
    "lr_predicted = log_reg.predict(X_test)"
   ]
  },
  {
   "cell_type": "code",
   "execution_count": 64,
   "metadata": {},
   "outputs": [
    {
     "name": "stderr",
     "output_type": "stream",
     "text": [
      "/Library/Frameworks/Python.framework/Versions/3.7/lib/python3.7/site-packages/sklearn/metrics/classification.py:1143: UndefinedMetricWarning: F-score is ill-defined and being set to 0.0 in labels with no predicted samples.\n",
      "  'precision', 'predicted', average, warn_for)\n"
     ]
    },
    {
     "data": {
      "text/plain": [
       "0.6515737259390715"
      ]
     },
     "execution_count": 64,
     "metadata": {},
     "output_type": "execute_result"
    }
   ],
   "source": [
    "# Evaluating the F1 measure of the logistic regression model\n",
    "f1_score(y_test, lr_predicted, average='weighted') "
   ]
  },
  {
   "cell_type": "code",
   "execution_count": 65,
   "metadata": {},
   "outputs": [],
   "source": [
    "def topic_model(textfile):\n",
    "    test_list = []\n",
    "    infile = open(textfile, \"r\")\n",
    "    \n",
    "    outfile = open(\"topic_results.txt\",\"w\")\n",
    "    for question in infile:\n",
    "        test_list.append(question)\n",
    "        \n",
    "        processed = vectorizer.transform(test_list)\n",
    "        \n",
    "        result = log_reg.predict(processed)\n",
    "        outfile.write(str(result[0]))\n",
    "        outfile.write('\\n')\n",
    "        \n",
    "        test_list = []\n",
    "    infile.close()\n",
    "    outfile.close()"
   ]
  },
  {
   "cell_type": "code",
   "execution_count": 66,
   "metadata": {},
   "outputs": [],
   "source": [
    "topic_model(\"/Users/lvz/Documents/Code/Python/FinalProjectNLP/Placebo/tester.txt\")"
   ]
  },
  {
   "cell_type": "code",
   "execution_count": 67,
   "metadata": {},
   "outputs": [
    {
     "name": "stdout",
     "output_type": "stream",
     "text": [
      "Check that you have all your aguments\n"
     ]
    }
   ],
   "source": [
    "import sys\n",
    "if(len(sys.argv) != 4):\n",
    "    print(\"Check that you have all your arguments\")\n",
    "\n",
    "else:\n",
    "    if(sys.argv[1]==\"topic\"):\n",
    "        topic_model(sys.argv[2])"
   ]
  },
  {
   "cell_type": "code",
   "execution_count": null,
   "metadata": {},
   "outputs": [],
   "source": []
  }
 ],
 "metadata": {
  "kernelspec": {
   "display_name": "Python 3",
   "language": "python",
   "name": "python3"
  },
  "language_info": {
   "codemirror_mode": {
    "name": "ipython",
    "version": 3
   },
   "file_extension": ".py",
   "mimetype": "text/x-python",
   "name": "python",
   "nbconvert_exporter": "python",
   "pygments_lexer": "ipython3",
   "version": "3.7.1"
  }
 },
 "nbformat": 4,
 "nbformat_minor": 2
}
