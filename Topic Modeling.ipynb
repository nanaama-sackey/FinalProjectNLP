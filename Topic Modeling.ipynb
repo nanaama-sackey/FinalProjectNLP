{
 "cells": [
  {
   "cell_type": "code",
   "execution_count": 16,
   "metadata": {},
   "outputs": [],
   "source": [
    "# Initialising a dataframe in pandas containing the topics and answers\n",
    "import pandas as pd\n",
    "\n",
    "df_topics = pd.DataFrame()\n",
    "df_topics = pd.read_csv(\"/Users/lvz/Documents/Code/Python/FinalProjectNLP/Placebo/Topics.txt\", delimiter=\"\\t \", engine=\"python\",header=None, names=['topic'])\n",
    "#df_topics.head()"
   ]
  },
  {
   "cell_type": "code",
   "execution_count": 17,
   "metadata": {},
   "outputs": [],
   "source": [
    "df_answers = pd.DataFrame()\n",
    "df_answers = pd.read_csv(\"/Users/lvz/Documents/Code/Python/FinalProjectNLP/Placebo/Answers.txt\", engine=\"python\", delimiter='\\t',header=None, names=['answers'])\n",
    "#df_answers.head()"
   ]
  },
  {
   "cell_type": "code",
   "execution_count": 18,
   "metadata": {},
   "outputs": [],
   "source": [
    "topic_model = pd.DataFrame()\n",
    "topic_model = pd.concat([df_answers, df_topics], axis=1)\n",
    "#topic_model.head()"
   ]
  },
  {
   "cell_type": "code",
   "execution_count": 19,
   "metadata": {},
   "outputs": [],
   "source": [
    "from sklearn.feature_extraction.text import TfidfVectorizer\n",
    "vectorizer = TfidfVectorizer(stop_words=\"english\", lowercase=\"True\", strip_accents=\"ascii\")\n",
    "\n",
    "y = topic_model.topic\n",
    "X = vectorizer.fit_transform(topic_model.answers.astype('U'))"
   ]
  },
  {
   "cell_type": "code",
   "execution_count": 20,
   "metadata": {},
   "outputs": [
    {
     "data": {
      "text/plain": [
       "(1304,)"
      ]
     },
     "execution_count": 20,
     "metadata": {},
     "output_type": "execute_result"
    }
   ],
   "source": [
    "# Importing the function for splitting data into test & train\n",
    "from sklearn.model_selection import train_test_split\n",
    "from sklearn import preprocessing\n",
    "from sklearn.metrics import classification_report, accuracy_score\n",
    "\n",
    "# Splitting the data into 80% training, 20% for testing\n",
    "X_train, X_test, y_train, y_test = train_test_split(X, y, test_size=0.5, random_state = 1)\n",
    "\n",
    "#encoder = preprocessing.LabelEncoder()\n",
    "#y_train = encoder.fit_transform(y_train)\n",
    "#y_test = encoder.fit_transform(y_test)\n",
    "\n",
    "y_train.shape"
   ]
  },
  {
   "cell_type": "code",
   "execution_count": 21,
   "metadata": {},
   "outputs": [
    {
     "data": {
      "text/plain": [
       "(1304,)"
      ]
     },
     "execution_count": 21,
     "metadata": {},
     "output_type": "execute_result"
    }
   ],
   "source": [
    "# Importing the naive bayes function\n",
    "from sklearn.naive_bayes import MultinomialNB\n",
    "\n",
    "# Instantiating the gaussian naive bayes classifier\n",
    "naiveBayes = MultinomialNB()\n",
    "\n",
    "# Training the model\n",
    "naiveBayes.fit(X_train, y_train)\n",
    "\n",
    "# Testing the model\n",
    "nb_predicted = naiveBayes.predict(X_test)\n",
    "nb_predicted.shape"
   ]
  },
  {
   "cell_type": "code",
   "execution_count": 22,
   "metadata": {},
   "outputs": [
    {
     "data": {
      "text/plain": [
       "0.18711656441717792"
      ]
     },
     "execution_count": 22,
     "metadata": {},
     "output_type": "execute_result"
    }
   ],
   "source": [
    "accuracy_score(y_test, nb_predicted)\n",
    "#classification_report(y_test, nb_predicted)"
   ]
  },
  {
   "cell_type": "code",
   "execution_count": 23,
   "metadata": {},
   "outputs": [
    {
     "name": "stderr",
     "output_type": "stream",
     "text": [
      "/Library/Frameworks/Python.framework/Versions/3.7/lib/python3.7/site-packages/sklearn/linear_model/logistic.py:459: FutureWarning: Default multi_class will be changed to 'auto' in 0.22. Specify the multi_class option to silence this warning.\n",
      "  \"this warning.\", FutureWarning)\n"
     ]
    },
    {
     "data": {
      "text/plain": [
       "(1304,)"
      ]
     },
     "execution_count": 23,
     "metadata": {},
     "output_type": "execute_result"
    }
   ],
   "source": [
    "# Importing the logistic regression function\n",
    "from sklearn.linear_model import LogisticRegression\n",
    "\n",
    "# Instantiate the classifier\n",
    "log_reg = LogisticRegression(solver='lbfgs')\n",
    "\n",
    "# The model will learn the relationship between the input \n",
    "# and the observation when fit is called on the data\n",
    "log_reg.fit(X_train, y_train)\n",
    "\n",
    "# Testing the model using the remaining test data\n",
    "lr_predicted = log_reg.predict(X_test)\n",
    "lr_predicted.shape"
   ]
  },
  {
   "cell_type": "code",
   "execution_count": 24,
   "metadata": {},
   "outputs": [
    {
     "data": {
      "text/plain": [
       "0.20475460122699388"
      ]
     },
     "execution_count": 24,
     "metadata": {},
     "output_type": "execute_result"
    }
   ],
   "source": [
    "accuracy_score(y_test, lr_predicted)"
   ]
  },
  {
   "cell_type": "code",
   "execution_count": 25,
   "metadata": {},
   "outputs": [
    {
     "data": {
      "text/plain": [
       "(1304,)"
      ]
     },
     "execution_count": 25,
     "metadata": {},
     "output_type": "execute_result"
    }
   ],
   "source": [
    "from sklearn.svm import SVC\n",
    "\n",
    "svm = SVC(gamma='auto')\n",
    "\n",
    "svm.fit(X_train, y_train)\n",
    "\n",
    "svm_predicted = svm.predict(X_test)\n",
    "svm_predicted.shape"
   ]
  },
  {
   "cell_type": "code",
   "execution_count": 26,
   "metadata": {},
   "outputs": [
    {
     "data": {
      "text/plain": [
       "0.01687116564417178"
      ]
     },
     "execution_count": 26,
     "metadata": {},
     "output_type": "execute_result"
    }
   ],
   "source": [
    "accuracy_score(y_test, svm_predicted)"
   ]
  },
  {
   "cell_type": "code",
   "execution_count": 27,
   "metadata": {},
   "outputs": [
    {
     "data": {
      "text/plain": [
       "(1304,)"
      ]
     },
     "execution_count": 27,
     "metadata": {},
     "output_type": "execute_result"
    }
   ],
   "source": [
    "from sklearn.ensemble import RandomForestClassifier\n",
    "from sklearn.datasets import make_classification\n",
    "\n",
    "rand_forest = RandomForestClassifier(n_estimators=100, max_depth=2, random_state=0)\n",
    "\n",
    "rand_forest.fit(X_train, y_train)\n",
    "rand_forest_predicted = rand_forest.predict(X_test)\n",
    "svm_predicted.shape"
   ]
  },
  {
   "cell_type": "code",
   "execution_count": 28,
   "metadata": {},
   "outputs": [
    {
     "data": {
      "text/plain": [
       "0.12960122699386503"
      ]
     },
     "execution_count": 28,
     "metadata": {},
     "output_type": "execute_result"
    }
   ],
   "source": [
    "accuracy_score(y_test, rand_forest_predicted)"
   ]
  },
  {
   "cell_type": "code",
   "execution_count": 29,
   "metadata": {},
   "outputs": [],
   "source": [
    "def topic_model(textfile):\n",
    "    test_list = []\n",
    "    infile = open(textfile, \"r\")\n",
    "    \n",
    "    outfile = open(\"topic_results.txt\",\"w\")\n",
    "    for question in infile:\n",
    "        test_list.append(question)\n",
    "        \n",
    "        processed = vectorizer.transform(test_list)\n",
    "        \n",
    "        result = log_reg.predict(processed)\n",
    "        outfile.write(str(result[0]))\n",
    "        outfile.write('\\n')\n",
    "        \n",
    "        test_list = []\n",
    "    infile.close()\n",
    "    outfile.close()"
   ]
  },
  {
   "cell_type": "code",
   "execution_count": 30,
   "metadata": {},
   "outputs": [],
   "source": [
    "topic_model(\"/Users/lvz/Documents/Code/Python/FinalProjectNLP/Placebo/tester.txt\")"
   ]
  },
  {
   "cell_type": "code",
   "execution_count": null,
   "metadata": {},
   "outputs": [],
   "source": [
    "import sys\n",
    "if(len(sys.argv) != 4):\n",
    "    print(\"Check that you have all your aguments\")\n",
    "\n",
    "else:\n",
    "    if(sys.argv[1]==\"topic\"):\n",
    "        topic_model(sys.argv[2])"
   ]
  }
 ],
 "metadata": {
  "kernelspec": {
   "display_name": "Python 3",
   "language": "python",
   "name": "python3"
  },
  "language_info": {
   "codemirror_mode": {
    "name": "ipython",
    "version": 3
   },
   "file_extension": ".py",
   "mimetype": "text/x-python",
   "name": "python",
   "nbconvert_exporter": "python",
   "pygments_lexer": "ipython3",
   "version": "3.7.1"
  }
 },
 "nbformat": 4,
 "nbformat_minor": 2
}
