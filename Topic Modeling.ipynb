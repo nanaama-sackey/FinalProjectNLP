{
 "cells": [
  {
   "cell_type": "code",
   "execution_count": 14,
   "metadata": {},
   "outputs": [],
   "source": [
    "# Initialising a dataframe in pandas containing the topics and answers\n",
    "import pandas as pd\n",
    "\n",
    "df_topics = pd.DataFrame()\n",
    "df_topics = pd.read_csv(\"/Users/lvz/Documents/Code/Python/FinalProjectNLP/Placebo/Topics.txt\", delimiter=\"\\t \", engine=\"python\",header=None, names=['topic'])\n",
    "#df_topics.head()"
   ]
  },
  {
   "cell_type": "code",
   "execution_count": 15,
   "metadata": {},
   "outputs": [],
   "source": [
    "df_answers = pd.DataFrame()\n",
    "df_answers = pd.read_csv(\"/Users/lvz/Documents/Code/Python/FinalProjectNLP/Placebo/Answers.txt\", engine=\"python\", delimiter='\\t',header=None, names=['answers'])\n",
    "#df_answers.head()"
   ]
  },
  {
   "cell_type": "code",
   "execution_count": 16,
   "metadata": {},
   "outputs": [],
   "source": [
    "topic_model = pd.DataFrame()\n",
    "topic_model = pd.concat([df_answers, df_topics], axis=1)\n",
    "#topic_model.head()"
   ]
  },
  {
   "cell_type": "code",
   "execution_count": 17,
   "metadata": {},
   "outputs": [],
   "source": [
    "from sklearn.feature_extraction.text import TfidfVectorizer\n",
    "vectorizer = TfidfVectorizer(stop_words=\"english\", lowercase=\"True\", strip_accents=\"ascii\")\n",
    "\n",
    "y = topic_model.topic\n",
    "X = vectorizer.fit_transform(topic_model.answers.astype('U'))"
   ]
  },
  {
   "cell_type": "code",
   "execution_count": 18,
   "metadata": {},
   "outputs": [
    {
     "data": {
      "text/plain": [
       "(1304,)"
      ]
     },
     "execution_count": 18,
     "metadata": {},
     "output_type": "execute_result"
    }
   ],
   "source": [
    "# Importing the function for splitting data into test & train\n",
    "from sklearn.model_selection import train_test_split\n",
    "from sklearn import preprocessing\n",
    "from sklearn.metrics import classification_report, accuracy_score\n",
    "\n",
    "# Splitting the data into 80% training, 20% for testing\n",
    "X_train, X_test, y_train, y_test = train_test_split(X, y, test_size=0.5, random_state = 1)\n",
    "\n",
    "#encoder = preprocessing.LabelEncoder()\n",
    "#y_train = encoder.fit_transform(y_train)\n",
    "#y_test = encoder.fit_transform(y_test)\n",
    "\n",
    "y_train.shape"
   ]
  },
  {
   "cell_type": "code",
   "execution_count": 19,
   "metadata": {},
   "outputs": [
    {
     "data": {
      "text/plain": [
       "(1304,)"
      ]
     },
     "execution_count": 19,
     "metadata": {},
     "output_type": "execute_result"
    }
   ],
   "source": [
    "# Importing the naive bayes function\n",
    "from sklearn.naive_bayes import MultinomialNB\n",
    "\n",
    "# Instantiating the gaussian naive bayes classifier\n",
    "naiveBayes = MultinomialNB()\n",
    "\n",
    "# Training the model\n",
    "naiveBayes.fit(X_train, y_train)\n",
    "\n",
    "# Testing the model\n",
    "nb_predicted = naiveBayes.predict(X_test)\n",
    "nb_predicted.shape"
   ]
  },
  {
   "cell_type": "code",
   "execution_count": 20,
   "metadata": {},
   "outputs": [
    {
     "data": {
      "text/plain": [
       "0.18711656441717792"
      ]
     },
     "execution_count": 20,
     "metadata": {},
     "output_type": "execute_result"
    }
   ],
   "source": [
    "accuracy_score(y_test, nb_predicted)\n",
    "#classification_report(y_test, nb_predicted)"
   ]
  },
  {
   "cell_type": "code",
   "execution_count": 21,
   "metadata": {},
   "outputs": [],
   "source": [
    "def topic_model(textfile):\n",
    "    test_list = []\n",
    "    infile = open(textfile, \"r\")\n",
    "    \n",
    "    outfile = open(\"topic_results.txt\",\"w\")\n",
    "    for question in infile:\n",
    "        test_list.append(question)\n",
    "        \n",
    "        processed = vectorizer.transform(test_list)\n",
    "        \n",
    "        result = naiveBayes.predict(processed)\n",
    "        outfile.write(str(result[0]))\n",
    "        outfile.write('\\n')\n",
    "        \n",
    "        test_list = []\n",
    "    infile.close()\n",
    "    outfile.close()"
   ]
  },
  {
   "cell_type": "code",
   "execution_count": 22,
   "metadata": {},
   "outputs": [],
   "source": [
    "topic_model(\"/Users/lvz/Documents/Code/Python/FinalProjectNLP/Placebo/tester.txt\")"
   ]
  },
  {
   "cell_type": "code",
   "execution_count": null,
   "metadata": {},
   "outputs": [],
   "source": []
  }
 ],
 "metadata": {
  "kernelspec": {
   "display_name": "Python 3",
   "language": "python",
   "name": "python3"
  },
  "language_info": {
   "codemirror_mode": {
    "name": "ipython",
    "version": 3
   },
   "file_extension": ".py",
   "mimetype": "text/x-python",
   "name": "python",
   "nbconvert_exporter": "python",
   "pygments_lexer": "ipython3",
   "version": "3.7.1"
  }
 },
 "nbformat": 4,
 "nbformat_minor": 2
}
